{
 "cells": [
  {
   "cell_type": "code",
   "execution_count": 1,
   "id": "eeecee34",
   "metadata": {
    "_cell_guid": "b1076dfc-b9ad-4769-8c92-a6c4dae69d19",
    "_uuid": "8f2839f25d086af736a60e9eeb907d3b93b6e0e5",
    "execution": {
     "iopub.execute_input": "2024-01-01T16:57:28.785878Z",
     "iopub.status.busy": "2024-01-01T16:57:28.785452Z",
     "iopub.status.idle": "2024-01-01T16:57:29.260131Z",
     "shell.execute_reply": "2024-01-01T16:57:29.258879Z"
    },
    "papermill": {
     "duration": 0.494534,
     "end_time": "2024-01-01T16:57:29.263019",
     "exception": false,
     "start_time": "2024-01-01T16:57:28.768485",
     "status": "completed"
    },
    "tags": []
   },
   "outputs": [
    {
     "name": "stdout",
     "output_type": "stream",
     "text": [
      "/kaggle/input/financial-sentiment-analysis/data.csv\n",
      "/kaggle/input/twitter-entity-sentiment-analysis/twitter_validation.csv\n",
      "/kaggle/input/twitter-entity-sentiment-analysis/twitter_training.csv\n",
      "/kaggle/input/sentiment-analysis-dataset/training.1600000.processed.noemoticon.csv\n",
      "/kaggle/input/sentiment-analysis-dataset/train.csv\n",
      "/kaggle/input/sentiment-analysis-dataset/testdata.manual.2009.06.14.csv\n",
      "/kaggle/input/sentiment-analysis-dataset/test.csv\n"
     ]
    }
   ],
   "source": [
    "# This Python 3 environment comes with many helpful analytics libraries installed\n",
    "# It is defined by the kaggle/python Docker image: https://github.com/kaggle/docker-python\n",
    "# For example, here's several helpful packages to load\n",
    "\n",
    "import numpy as np # linear algebra\n",
    "import pandas as pd # data processing, CSV file I/O (e.g. pd.read_csv)\n",
    "\n",
    "# Input data files are available in the read-only \"../input/\" directory\n",
    "# For example, running this (by clicking run or pressing Shift+Enter) will list all files under the input directory\n",
    "\n",
    "import os\n",
    "for dirname, _, filenames in os.walk('/kaggle/input'):\n",
    "    for filename in filenames:\n",
    "        print(os.path.join(dirname, filename))\n",
    "        \n",
    "\n",
    "# You can write up to 20GB to the current directory (/kaggle/working/) that gets preserved as output when you create a version using \"Save & Run All\" \n",
    "# You can also write temporary files to /kaggle/temp/, but they won't be saved outside of the current session"
   ]
  },
  {
   "cell_type": "markdown",
   "id": "650125a9",
   "metadata": {
    "papermill": {
     "duration": 0.013971,
     "end_time": "2024-01-01T16:57:29.292254",
     "exception": false,
     "start_time": "2024-01-01T16:57:29.278283",
     "status": "completed"
    },
    "tags": []
   },
   "source": [
    "# Prepare Data"
   ]
  },
  {
   "cell_type": "markdown",
   "id": "f88b087e",
   "metadata": {
    "papermill": {
     "duration": 0.014585,
     "end_time": "2024-01-01T16:57:29.321209",
     "exception": false,
     "start_time": "2024-01-01T16:57:29.306624",
     "status": "completed"
    },
    "tags": []
   },
   "source": [
    "## Import Libraries"
   ]
  },
  {
   "cell_type": "code",
   "execution_count": 2,
   "id": "7f95498e",
   "metadata": {
    "execution": {
     "iopub.execute_input": "2024-01-01T16:57:29.352997Z",
     "iopub.status.busy": "2024-01-01T16:57:29.351893Z",
     "iopub.status.idle": "2024-01-01T16:57:31.173242Z",
     "shell.execute_reply": "2024-01-01T16:57:31.171587Z"
    },
    "papermill": {
     "duration": 1.841126,
     "end_time": "2024-01-01T16:57:31.176753",
     "exception": false,
     "start_time": "2024-01-01T16:57:29.335627",
     "status": "completed"
    },
    "tags": []
   },
   "outputs": [],
   "source": [
    "import pandas as pd\n",
    "import matplotlib.pyplot as plt\n",
    "import warnings\n",
    "\n",
    "from sklearn.model_selection import train_test_split\n",
    "from sklearn.metrics import accuracy_score,classification_report, ConfusionMatrixDisplay\n",
    "import re\n",
    "import string\n",
    "from sklearn.linear_model import LogisticRegression\n",
    "from sklearn.tree import DecisionTreeClassifier\n",
    "from sklearn.ensemble import RandomForestClassifier\n",
    "from sklearn.feature_extraction.text import TfidfVectorizer\n",
    "# Ignore FutureWarning messages\n",
    "warnings.simplefilter(action='ignore', category=FutureWarning)"
   ]
  },
  {
   "cell_type": "markdown",
   "id": "6f29eb08",
   "metadata": {
    "papermill": {
     "duration": 0.015043,
     "end_time": "2024-01-01T16:57:31.207293",
     "exception": false,
     "start_time": "2024-01-01T16:57:31.192250",
     "status": "completed"
    },
    "tags": []
   },
   "source": [
    "## Read csv files"
   ]
  },
  {
   "cell_type": "code",
   "execution_count": 3,
   "id": "4a9abb6f",
   "metadata": {
    "execution": {
     "iopub.execute_input": "2024-01-01T16:57:31.240384Z",
     "iopub.status.busy": "2024-01-01T16:57:31.239930Z",
     "iopub.status.idle": "2024-01-01T16:57:31.525171Z",
     "shell.execute_reply": "2024-01-01T16:57:31.523959Z"
    },
    "papermill": {
     "duration": 0.304828,
     "end_time": "2024-01-01T16:57:31.528171",
     "exception": false,
     "start_time": "2024-01-01T16:57:31.223343",
     "status": "completed"
    },
    "tags": []
   },
   "outputs": [],
   "source": [
    "d = pd.read_csv('/kaggle/input/sentiment-analysis-dataset/train.csv',encoding='latin1');\n",
    "f = pd.read_csv('/kaggle/input/sentiment-analysis-dataset/test.csv',encoding='latin1');\n",
    "df = pd.concat([d,f])"
   ]
  },
  {
   "cell_type": "markdown",
   "id": "5f793f08",
   "metadata": {
    "papermill": {
     "duration": 0.014432,
     "end_time": "2024-01-01T16:57:31.557459",
     "exception": false,
     "start_time": "2024-01-01T16:57:31.543027",
     "status": "completed"
    },
    "tags": []
   },
   "source": [
    "## Explore dataset"
   ]
  },
  {
   "cell_type": "code",
   "execution_count": 4,
   "id": "f42071a9",
   "metadata": {
    "execution": {
     "iopub.execute_input": "2024-01-01T16:57:31.589597Z",
     "iopub.status.busy": "2024-01-01T16:57:31.589155Z",
     "iopub.status.idle": "2024-01-01T16:57:31.660151Z",
     "shell.execute_reply": "2024-01-01T16:57:31.658772Z"
    },
    "papermill": {
     "duration": 0.090769,
     "end_time": "2024-01-01T16:57:31.662945",
     "exception": false,
     "start_time": "2024-01-01T16:57:31.572176",
     "status": "completed"
    },
    "tags": []
   },
   "outputs": [
    {
     "name": "stdout",
     "output_type": "stream",
     "text": [
      "(32296, 10)\n",
      "<class 'pandas.core.frame.DataFrame'>\n",
      "Index: 32296 entries, 0 to 4814\n",
      "Data columns (total 10 columns):\n",
      " #   Column            Non-Null Count  Dtype  \n",
      "---  ------            --------------  -----  \n",
      " 0   textID            31015 non-null  object \n",
      " 1   text              31014 non-null  object \n",
      " 2   selected_text     27480 non-null  object \n",
      " 3   sentiment         31015 non-null  object \n",
      " 4   Time of Tweet     31015 non-null  object \n",
      " 5   Age of User       31015 non-null  object \n",
      " 6   Country           31015 non-null  object \n",
      " 7   Population -2020  31015 non-null  float64\n",
      " 8   Land Area (Km²)   31015 non-null  float64\n",
      " 9   Density (P/Km²)   31015 non-null  float64\n",
      "dtypes: float64(3), object(7)\n",
      "memory usage: 2.7+ MB\n",
      "None\n"
     ]
    },
    {
     "data": {
      "text/html": [
       "<div>\n",
       "<style scoped>\n",
       "    .dataframe tbody tr th:only-of-type {\n",
       "        vertical-align: middle;\n",
       "    }\n",
       "\n",
       "    .dataframe tbody tr th {\n",
       "        vertical-align: top;\n",
       "    }\n",
       "\n",
       "    .dataframe thead th {\n",
       "        text-align: right;\n",
       "    }\n",
       "</style>\n",
       "<table border=\"1\" class=\"dataframe\">\n",
       "  <thead>\n",
       "    <tr style=\"text-align: right;\">\n",
       "      <th></th>\n",
       "      <th>textID</th>\n",
       "      <th>text</th>\n",
       "      <th>selected_text</th>\n",
       "      <th>sentiment</th>\n",
       "      <th>Time of Tweet</th>\n",
       "      <th>Age of User</th>\n",
       "      <th>Country</th>\n",
       "      <th>Population -2020</th>\n",
       "      <th>Land Area (Km²)</th>\n",
       "      <th>Density (P/Km²)</th>\n",
       "    </tr>\n",
       "  </thead>\n",
       "  <tbody>\n",
       "    <tr>\n",
       "      <th>0</th>\n",
       "      <td>cb774db0d1</td>\n",
       "      <td>I`d have responded, if I were going</td>\n",
       "      <td>I`d have responded, if I were going</td>\n",
       "      <td>neutral</td>\n",
       "      <td>morning</td>\n",
       "      <td>0-20</td>\n",
       "      <td>Afghanistan</td>\n",
       "      <td>38928346.0</td>\n",
       "      <td>652860.0</td>\n",
       "      <td>60.0</td>\n",
       "    </tr>\n",
       "    <tr>\n",
       "      <th>1</th>\n",
       "      <td>549e992a42</td>\n",
       "      <td>Sooo SAD I will miss you here in San Diego!!!</td>\n",
       "      <td>Sooo SAD</td>\n",
       "      <td>negative</td>\n",
       "      <td>noon</td>\n",
       "      <td>21-30</td>\n",
       "      <td>Albania</td>\n",
       "      <td>2877797.0</td>\n",
       "      <td>27400.0</td>\n",
       "      <td>105.0</td>\n",
       "    </tr>\n",
       "    <tr>\n",
       "      <th>2</th>\n",
       "      <td>088c60f138</td>\n",
       "      <td>my boss is bullying me...</td>\n",
       "      <td>bullying me</td>\n",
       "      <td>negative</td>\n",
       "      <td>night</td>\n",
       "      <td>31-45</td>\n",
       "      <td>Algeria</td>\n",
       "      <td>43851044.0</td>\n",
       "      <td>2381740.0</td>\n",
       "      <td>18.0</td>\n",
       "    </tr>\n",
       "    <tr>\n",
       "      <th>3</th>\n",
       "      <td>9642c003ef</td>\n",
       "      <td>what interview! leave me alone</td>\n",
       "      <td>leave me alone</td>\n",
       "      <td>negative</td>\n",
       "      <td>morning</td>\n",
       "      <td>46-60</td>\n",
       "      <td>Andorra</td>\n",
       "      <td>77265.0</td>\n",
       "      <td>470.0</td>\n",
       "      <td>164.0</td>\n",
       "    </tr>\n",
       "    <tr>\n",
       "      <th>4</th>\n",
       "      <td>358bd9e861</td>\n",
       "      <td>Sons of ****, why couldn`t they put them on t...</td>\n",
       "      <td>Sons of ****,</td>\n",
       "      <td>negative</td>\n",
       "      <td>noon</td>\n",
       "      <td>60-70</td>\n",
       "      <td>Angola</td>\n",
       "      <td>32866272.0</td>\n",
       "      <td>1246700.0</td>\n",
       "      <td>26.0</td>\n",
       "    </tr>\n",
       "  </tbody>\n",
       "</table>\n",
       "</div>"
      ],
      "text/plain": [
       "       textID                                               text  \\\n",
       "0  cb774db0d1                I`d have responded, if I were going   \n",
       "1  549e992a42      Sooo SAD I will miss you here in San Diego!!!   \n",
       "2  088c60f138                          my boss is bullying me...   \n",
       "3  9642c003ef                     what interview! leave me alone   \n",
       "4  358bd9e861   Sons of ****, why couldn`t they put them on t...   \n",
       "\n",
       "                         selected_text sentiment Time of Tweet Age of User  \\\n",
       "0  I`d have responded, if I were going   neutral       morning        0-20   \n",
       "1                             Sooo SAD  negative          noon       21-30   \n",
       "2                          bullying me  negative         night       31-45   \n",
       "3                       leave me alone  negative       morning       46-60   \n",
       "4                        Sons of ****,  negative          noon       60-70   \n",
       "\n",
       "       Country  Population -2020  Land Area (Km²)  Density (P/Km²)  \n",
       "0  Afghanistan        38928346.0         652860.0             60.0  \n",
       "1      Albania         2877797.0          27400.0            105.0  \n",
       "2      Algeria        43851044.0        2381740.0             18.0  \n",
       "3      Andorra           77265.0            470.0            164.0  \n",
       "4       Angola        32866272.0        1246700.0             26.0  "
      ]
     },
     "execution_count": 4,
     "metadata": {},
     "output_type": "execute_result"
    }
   ],
   "source": [
    "print(df.shape)\n",
    "print(df.info())\n",
    "df.head()"
   ]
  },
  {
   "cell_type": "markdown",
   "id": "6493174c",
   "metadata": {
    "papermill": {
     "duration": 0.016134,
     "end_time": "2024-01-01T16:57:31.694905",
     "exception": false,
     "start_time": "2024-01-01T16:57:31.678771",
     "status": "completed"
    },
    "tags": []
   },
   "source": [
    "## Convert Data"
   ]
  },
  {
   "cell_type": "code",
   "execution_count": 5,
   "id": "190f2122",
   "metadata": {
    "execution": {
     "iopub.execute_input": "2024-01-01T16:57:31.728989Z",
     "iopub.status.busy": "2024-01-01T16:57:31.728555Z",
     "iopub.status.idle": "2024-01-01T16:57:31.764350Z",
     "shell.execute_reply": "2024-01-01T16:57:31.762796Z"
    },
    "papermill": {
     "duration": 0.056072,
     "end_time": "2024-01-01T16:57:31.767244",
     "exception": false,
     "start_time": "2024-01-01T16:57:31.711172",
     "status": "completed"
    },
    "tags": []
   },
   "outputs": [],
   "source": [
    "df.dropna(inplace=True)"
   ]
  },
  {
   "cell_type": "code",
   "execution_count": 6,
   "id": "9ebe7dc4",
   "metadata": {
    "execution": {
     "iopub.execute_input": "2024-01-01T16:57:31.800659Z",
     "iopub.status.busy": "2024-01-01T16:57:31.799832Z",
     "iopub.status.idle": "2024-01-01T16:57:32.136002Z",
     "shell.execute_reply": "2024-01-01T16:57:32.134514Z"
    },
    "papermill": {
     "duration": 0.356275,
     "end_time": "2024-01-01T16:57:32.139107",
     "exception": false,
     "start_time": "2024-01-01T16:57:31.782832",
     "status": "completed"
    },
    "tags": []
   },
   "outputs": [
    {
     "data": {
      "image/png": "[encoded data removed]",
      "text/plain": [
       "<Figure size 640x480 with 1 Axes>"
      ]
     },
     "metadata": {},
     "output_type": "display_data"
    }
   ],
   "source": [
    "df['sentiment'].value_counts(normalize=True).plot(kind='bar');"
   ]
  },
  {
   "cell_type": "code",
   "execution_count": 7,
   "id": "b3e72bdf",
   "metadata": {
    "execution": {
     "iopub.execute_input": "2024-01-01T16:57:32.269070Z",
     "iopub.status.busy": "2024-01-01T16:57:32.268614Z",
     "iopub.status.idle": "2024-01-01T16:57:32.538217Z",
     "shell.execute_reply": "2024-01-01T16:57:32.536848Z"
    },
    "papermill": {
     "duration": 0.386146,
     "end_time": "2024-01-01T16:57:32.540987",
     "exception": false,
     "start_time": "2024-01-01T16:57:32.154841",
     "status": "completed"
    },
    "tags": []
   },
   "outputs": [
    {
     "data": {
      "image/png": "[encoded data removed]",
      "text/plain": [
       "<Figure size 640x480 with 1 Axes>"
      ]
     },
     "metadata": {},
     "output_type": "display_data"
    }
   ],
   "source": [
    "# Convert sentiment column to categorical variable\n",
    "df['sentiment'] = df['sentiment'].astype('category').cat.codes\n",
    "df['sentiment'].value_counts(normalize=True).plot(kind='bar');"
   ]
  },
  {
   "cell_type": "code",
   "execution_count": 8,
   "id": "fc923e19",
   "metadata": {
    "execution": {
     "iopub.execute_input": "2024-01-01T16:57:32.574512Z",
     "iopub.status.busy": "2024-01-01T16:57:32.574117Z",
     "iopub.status.idle": "2024-01-01T16:57:32.619468Z",
     "shell.execute_reply": "2024-01-01T16:57:32.617768Z"
    },
    "papermill": {
     "duration": 0.066043,
     "end_time": "2024-01-01T16:57:32.622840",
     "exception": false,
     "start_time": "2024-01-01T16:57:32.556797",
     "status": "completed"
    },
    "tags": []
   },
   "outputs": [],
   "source": [
    "# Convert Time of Tweet column to categorical variable\n",
    "df['Time of Tweet'] = df['Time of Tweet'].astype('category').cat.codes\n",
    "# Convert Country column to categorical variable\n",
    "df['Country'] = df['Country'].astype('category').cat.codes\n",
    "# convert Age of User to integer \n",
    "df['Age of User']=df['Age of User'].replace({'0-20':18,'21-30':25,'31-45':38,'46-60':53,'60-70':65,'70-100':80})"
   ]
  },
  {
   "cell_type": "markdown",
   "id": "6748e3f6",
   "metadata": {
    "papermill": {
     "duration": 0.018373,
     "end_time": "2024-01-01T16:57:32.659893",
     "exception": false,
     "start_time": "2024-01-01T16:57:32.641520",
     "status": "completed"
    },
    "tags": []
   },
   "source": [
    "## Drop unuseful data"
   ]
  },
  {
   "cell_type": "code",
   "execution_count": 9,
   "id": "719be4ec",
   "metadata": {
    "execution": {
     "iopub.execute_input": "2024-01-01T16:57:32.694998Z",
     "iopub.status.busy": "2024-01-01T16:57:32.694582Z",
     "iopub.status.idle": "2024-01-01T16:57:32.719655Z",
     "shell.execute_reply": "2024-01-01T16:57:32.718032Z"
    },
    "papermill": {
     "duration": 0.046187,
     "end_time": "2024-01-01T16:57:32.722665",
     "exception": false,
     "start_time": "2024-01-01T16:57:32.676478",
     "status": "completed"
    },
    "tags": []
   },
   "outputs": [
    {
     "name": "stdout",
     "output_type": "stream",
     "text": [
      "<class 'pandas.core.frame.DataFrame'>\n",
      "Index: 27480 entries, 0 to 27480\n",
      "Data columns (total 10 columns):\n",
      " #   Column            Non-Null Count  Dtype  \n",
      "---  ------            --------------  -----  \n",
      " 0   textID            27480 non-null  object \n",
      " 1   text              27480 non-null  object \n",
      " 2   selected_text     27480 non-null  object \n",
      " 3   sentiment         27480 non-null  int8   \n",
      " 4   Time of Tweet     27480 non-null  int8   \n",
      " 5   Age of User       27480 non-null  int64  \n",
      " 6   Country           27480 non-null  int16  \n",
      " 7   Population -2020  27480 non-null  float64\n",
      " 8   Land Area (Km²)   27480 non-null  float64\n",
      " 9   Density (P/Km²)   27480 non-null  float64\n",
      "dtypes: float64(3), int16(1), int64(1), int8(2), object(3)\n",
      "memory usage: 1.8+ MB\n"
     ]
    }
   ],
   "source": [
    "df.info()"
   ]
  },
  {
   "cell_type": "code",
   "execution_count": 10,
   "id": "50bd3521",
   "metadata": {
    "execution": {
     "iopub.execute_input": "2024-01-01T16:57:32.758699Z",
     "iopub.status.busy": "2024-01-01T16:57:32.757680Z",
     "iopub.status.idle": "2024-01-01T16:57:32.776305Z",
     "shell.execute_reply": "2024-01-01T16:57:32.775421Z"
    },
    "papermill": {
     "duration": 0.039384,
     "end_time": "2024-01-01T16:57:32.778946",
     "exception": false,
     "start_time": "2024-01-01T16:57:32.739562",
     "status": "completed"
    },
    "tags": []
   },
   "outputs": [
    {
     "data": {
      "text/html": [
       "<div>\n",
       "<style scoped>\n",
       "    .dataframe tbody tr th:only-of-type {\n",
       "        vertical-align: middle;\n",
       "    }\n",
       "\n",
       "    .dataframe tbody tr th {\n",
       "        vertical-align: top;\n",
       "    }\n",
       "\n",
       "    .dataframe thead th {\n",
       "        text-align: right;\n",
       "    }\n",
       "</style>\n",
       "<table border=\"1\" class=\"dataframe\">\n",
       "  <thead>\n",
       "    <tr style=\"text-align: right;\">\n",
       "      <th></th>\n",
       "      <th>text</th>\n",
       "      <th>selected_text</th>\n",
       "      <th>sentiment</th>\n",
       "    </tr>\n",
       "  </thead>\n",
       "  <tbody>\n",
       "    <tr>\n",
       "      <th>0</th>\n",
       "      <td>I`d have responded, if I were going</td>\n",
       "      <td>I`d have responded, if I were going</td>\n",
       "      <td>1</td>\n",
       "    </tr>\n",
       "    <tr>\n",
       "      <th>1</th>\n",
       "      <td>Sooo SAD I will miss you here in San Diego!!!</td>\n",
       "      <td>Sooo SAD</td>\n",
       "      <td>0</td>\n",
       "    </tr>\n",
       "    <tr>\n",
       "      <th>2</th>\n",
       "      <td>my boss is bullying me...</td>\n",
       "      <td>bullying me</td>\n",
       "      <td>0</td>\n",
       "    </tr>\n",
       "    <tr>\n",
       "      <th>3</th>\n",
       "      <td>what interview! leave me alone</td>\n",
       "      <td>leave me alone</td>\n",
       "      <td>0</td>\n",
       "    </tr>\n",
       "    <tr>\n",
       "      <th>4</th>\n",
       "      <td>Sons of ****, why couldn`t they put them on t...</td>\n",
       "      <td>Sons of ****,</td>\n",
       "      <td>0</td>\n",
       "    </tr>\n",
       "    <tr>\n",
       "      <th>...</th>\n",
       "      <td>...</td>\n",
       "      <td>...</td>\n",
       "      <td>...</td>\n",
       "    </tr>\n",
       "    <tr>\n",
       "      <th>27476</th>\n",
       "      <td>wish we could come see u on Denver  husband l...</td>\n",
       "      <td>d lost</td>\n",
       "      <td>0</td>\n",
       "    </tr>\n",
       "    <tr>\n",
       "      <th>27477</th>\n",
       "      <td>I`ve wondered about rake to.  The client has ...</td>\n",
       "      <td>, don`t force</td>\n",
       "      <td>0</td>\n",
       "    </tr>\n",
       "    <tr>\n",
       "      <th>27478</th>\n",
       "      <td>Yay good for both of you. Enjoy the break - y...</td>\n",
       "      <td>Yay good for both of you.</td>\n",
       "      <td>2</td>\n",
       "    </tr>\n",
       "    <tr>\n",
       "      <th>27479</th>\n",
       "      <td>But it was worth it  ****.</td>\n",
       "      <td>But it was worth it  ****.</td>\n",
       "      <td>2</td>\n",
       "    </tr>\n",
       "    <tr>\n",
       "      <th>27480</th>\n",
       "      <td>All this flirting going on - The ATG smiles...</td>\n",
       "      <td>All this flirting going on - The ATG smiles. Y...</td>\n",
       "      <td>1</td>\n",
       "    </tr>\n",
       "  </tbody>\n",
       "</table>\n",
       "<p>27480 rows × 3 columns</p>\n",
       "</div>"
      ],
      "text/plain": [
       "                                                    text  \\\n",
       "0                    I`d have responded, if I were going   \n",
       "1          Sooo SAD I will miss you here in San Diego!!!   \n",
       "2                              my boss is bullying me...   \n",
       "3                         what interview! leave me alone   \n",
       "4       Sons of ****, why couldn`t they put them on t...   \n",
       "...                                                  ...   \n",
       "27476   wish we could come see u on Denver  husband l...   \n",
       "27477   I`ve wondered about rake to.  The client has ...   \n",
       "27478   Yay good for both of you. Enjoy the break - y...   \n",
       "27479                         But it was worth it  ****.   \n",
       "27480     All this flirting going on - The ATG smiles...   \n",
       "\n",
       "                                           selected_text  sentiment  \n",
       "0                    I`d have responded, if I were going          1  \n",
       "1                                               Sooo SAD          0  \n",
       "2                                            bullying me          0  \n",
       "3                                         leave me alone          0  \n",
       "4                                          Sons of ****,          0  \n",
       "...                                                  ...        ...  \n",
       "27476                                             d lost          0  \n",
       "27477                                      , don`t force          0  \n",
       "27478                          Yay good for both of you.          2  \n",
       "27479                         But it was worth it  ****.          2  \n",
       "27480  All this flirting going on - The ATG smiles. Y...          1  \n",
       "\n",
       "[27480 rows x 3 columns]"
      ]
     },
     "execution_count": 10,
     "metadata": {},
     "output_type": "execute_result"
    }
   ],
   "source": [
    "df.drop(columns=['textID','Time of Tweet', 'Age of User', 'Country', 'Population -2020', 'Land Area (Km²)', 'Density (P/Km²)'])"
   ]
  },
  {
   "cell_type": "markdown",
   "id": "474343a3",
   "metadata": {
    "papermill": {
     "duration": 0.016862,
     "end_time": "2024-01-01T16:57:32.812526",
     "exception": false,
     "start_time": "2024-01-01T16:57:32.795664",
     "status": "completed"
    },
    "tags": []
   },
   "source": [
    "## Creat a function to process text"
   ]
  },
  {
   "cell_type": "code",
   "execution_count": 11,
   "id": "a9383e6c",
   "metadata": {
    "execution": {
     "iopub.execute_input": "2024-01-01T16:57:32.848941Z",
     "iopub.status.busy": "2024-01-01T16:57:32.848153Z",
     "iopub.status.idle": "2024-01-01T16:57:32.855700Z",
     "shell.execute_reply": "2024-01-01T16:57:32.854551Z"
    },
    "papermill": {
     "duration": 0.029162,
     "end_time": "2024-01-01T16:57:32.858710",
     "exception": false,
     "start_time": "2024-01-01T16:57:32.829548",
     "status": "completed"
    },
    "tags": []
   },
   "outputs": [],
   "source": [
    "def wp(text):\n",
    "    text = text.lower()\n",
    "    text = re.sub('\\[.*?\\]', '', text)\n",
    "    text = re.sub(\"\\\\W\",\" \",text) \n",
    "    text = re.sub('https?://\\S+|www\\.\\S+', '', text)\n",
    "    text = re.sub('<.*?>+', '', text)\n",
    "    text = re.sub('[%s]' % re.escape(string.punctuation), '', text)\n",
    "    text = re.sub('\\n', '', text)\n",
    "    text = re.sub('\\w*\\d\\w*', '', text)    \n",
    "    return text"
   ]
  },
  {
   "cell_type": "code",
   "execution_count": 12,
   "id": "2c069d18",
   "metadata": {
    "execution": {
     "iopub.execute_input": "2024-01-01T16:57:32.894618Z",
     "iopub.status.busy": "2024-01-01T16:57:32.893718Z",
     "iopub.status.idle": "2024-01-01T16:57:33.713096Z",
     "shell.execute_reply": "2024-01-01T16:57:33.711857Z"
    },
    "papermill": {
     "duration": 0.840602,
     "end_time": "2024-01-01T16:57:33.715932",
     "exception": false,
     "start_time": "2024-01-01T16:57:32.875330",
     "status": "completed"
    },
    "tags": []
   },
   "outputs": [],
   "source": [
    "df['selected_text'] = df[\"selected_text\"].apply(wp)"
   ]
  },
  {
   "cell_type": "markdown",
   "id": "c3366a17",
   "metadata": {
    "papermill": {
     "duration": 0.016611,
     "end_time": "2024-01-01T16:57:33.749594",
     "exception": false,
     "start_time": "2024-01-01T16:57:33.732983",
     "status": "completed"
    },
    "tags": []
   },
   "source": [
    "## Split data"
   ]
  },
  {
   "cell_type": "code",
   "execution_count": 13,
   "id": "80192ef1",
   "metadata": {
    "execution": {
     "iopub.execute_input": "2024-01-01T16:57:33.796466Z",
     "iopub.status.busy": "2024-01-01T16:57:33.795048Z",
     "iopub.status.idle": "2024-01-01T16:57:33.802653Z",
     "shell.execute_reply": "2024-01-01T16:57:33.801346Z"
    },
    "papermill": {
     "duration": 0.036117,
     "end_time": "2024-01-01T16:57:33.805329",
     "exception": false,
     "start_time": "2024-01-01T16:57:33.769212",
     "status": "completed"
    },
    "tags": []
   },
   "outputs": [],
   "source": [
    "X=df['selected_text']\n",
    "y= df['sentiment']"
   ]
  },
  {
   "cell_type": "code",
   "execution_count": 14,
   "id": "06c2e613",
   "metadata": {
    "execution": {
     "iopub.execute_input": "2024-01-01T16:57:33.856342Z",
     "iopub.status.busy": "2024-01-01T16:57:33.855328Z",
     "iopub.status.idle": "2024-01-01T16:57:33.881801Z",
     "shell.execute_reply": "2024-01-01T16:57:33.880524Z"
    },
    "papermill": {
     "duration": 0.055474,
     "end_time": "2024-01-01T16:57:33.886445",
     "exception": false,
     "start_time": "2024-01-01T16:57:33.830971",
     "status": "completed"
    },
    "tags": []
   },
   "outputs": [
    {
     "name": "stdout",
     "output_type": "stream",
     "text": [
      "(21984,)\n",
      "(5496,)\n",
      "(21984,)\n",
      "(5496,)\n"
     ]
    }
   ],
   "source": [
    "X_train, X_test, y_train, y_test = train_test_split(X,y,test_size=0.2,random_state=42)\n",
    "print(X_train.shape)\n",
    "print(X_test.shape)\n",
    "print(y_train.shape)\n",
    "print(y_test.shape)"
   ]
  },
  {
   "cell_type": "markdown",
   "id": "9c27ac66",
   "metadata": {
    "papermill": {
     "duration": 0.025735,
     "end_time": "2024-01-01T16:57:33.934468",
     "exception": false,
     "start_time": "2024-01-01T16:57:33.908733",
     "status": "completed"
    },
    "tags": []
   },
   "source": [
    "## Convert text to vectors"
   ]
  },
  {
   "cell_type": "code",
   "execution_count": 15,
   "id": "fa41cf5d",
   "metadata": {
    "execution": {
     "iopub.execute_input": "2024-01-01T16:57:33.981502Z",
     "iopub.status.busy": "2024-01-01T16:57:33.980541Z",
     "iopub.status.idle": "2024-01-01T16:57:34.483750Z",
     "shell.execute_reply": "2024-01-01T16:57:34.482214Z"
    },
    "papermill": {
     "duration": 0.531018,
     "end_time": "2024-01-01T16:57:34.486942",
     "exception": false,
     "start_time": "2024-01-01T16:57:33.955924",
     "status": "completed"
    },
    "tags": []
   },
   "outputs": [],
   "source": [
    "vectorization = TfidfVectorizer()\n",
    "XV_train = vectorization.fit_transform(X_train)\n",
    "XV_test = vectorization.transform(X_test)"
   ]
  },
  {
   "cell_type": "markdown",
   "id": "6fe7c215",
   "metadata": {
    "papermill": {
     "duration": 0.01686,
     "end_time": "2024-01-01T16:57:34.520753",
     "exception": false,
     "start_time": "2024-01-01T16:57:34.503893",
     "status": "completed"
    },
    "tags": []
   },
   "source": [
    "## Baseline model"
   ]
  },
  {
   "cell_type": "code",
   "execution_count": 16,
   "id": "91bbfa62",
   "metadata": {
    "execution": {
     "iopub.execute_input": "2024-01-01T16:57:34.557160Z",
     "iopub.status.busy": "2024-01-01T16:57:34.556039Z",
     "iopub.status.idle": "2024-01-01T16:57:34.566865Z",
     "shell.execute_reply": "2024-01-01T16:57:34.565727Z"
    },
    "papermill": {
     "duration": 0.032089,
     "end_time": "2024-01-01T16:57:34.569418",
     "exception": false,
     "start_time": "2024-01-01T16:57:34.537329",
     "status": "completed"
    },
    "tags": []
   },
   "outputs": [
    {
     "data": {
      "text/plain": [
       "0.40454876273653567"
      ]
     },
     "execution_count": 16,
     "metadata": {},
     "output_type": "execute_result"
    }
   ],
   "source": [
    "score_baseline = df['sentiment'].value_counts(normalize=True).max()\n",
    "score_baseline"
   ]
  },
  {
   "cell_type": "markdown",
   "id": "01c7e5da",
   "metadata": {
    "papermill": {
     "duration": 0.016494,
     "end_time": "2024-01-01T16:57:34.602730",
     "exception": false,
     "start_time": "2024-01-01T16:57:34.586236",
     "status": "completed"
    },
    "tags": []
   },
   "source": [
    "## Logistic regression"
   ]
  },
  {
   "cell_type": "code",
   "execution_count": 17,
   "id": "bb6182d9",
   "metadata": {
    "execution": {
     "iopub.execute_input": "2024-01-01T16:57:34.639472Z",
     "iopub.status.busy": "2024-01-01T16:57:34.638339Z",
     "iopub.status.idle": "2024-01-01T16:57:37.391262Z",
     "shell.execute_reply": "2024-01-01T16:57:37.389651Z"
    },
    "papermill": {
     "duration": 2.775145,
     "end_time": "2024-01-01T16:57:37.394498",
     "exception": false,
     "start_time": "2024-01-01T16:57:34.619353",
     "status": "completed"
    },
    "tags": []
   },
   "outputs": [
    {
     "data": {
      "text/html": [
       "<style>#sk-container-id-1 {color: black;background-color: white;}#sk-container-id-1 pre{padding: 0;}#sk-container-id-1 div.sk-toggleable {background-color: white;}#sk-container-id-1 label.sk-toggleable__label {cursor: pointer;display: block;width: 100%;margin-bottom: 0;padding: 0.3em;box-sizing: border-box;text-align: center;}#sk-container-id-1 label.sk-toggleable__label-arrow:before {content: \"▸\";float: left;margin-right: 0.25em;color: #696969;}#sk-container-id-1 label.sk-toggleable__label-arrow:hover:before {color: black;}#sk-container-id-1 div.sk-estimator:hover label.sk-toggleable__label-arrow:before {color: black;}#sk-container-id-1 div.sk-toggleable__content {max-height: 0;max-width: 0;overflow: hidden;text-align: left;background-color: #f0f8ff;}#sk-container-id-1 div.sk-toggleable__content pre {margin: 0.2em;color: black;border-radius: 0.25em;background-color: #f0f8ff;}#sk-container-id-1 input.sk-toggleable__control:checked~div.sk-toggleable__content {max-height: 200px;max-width: 100%;overflow: auto;}#sk-container-id-1 input.sk-toggleable__control:checked~label.sk-toggleable__label-arrow:before {content: \"▾\";}#sk-container-id-1 div.sk-estimator input.sk-toggleable__control:checked~label.sk-toggleable__label {background-color: #d4ebff;}#sk-container-id-1 div.sk-label input.sk-toggleable__control:checked~label.sk-toggleable__label {background-color: #d4ebff;}#sk-container-id-1 input.sk-hidden--visually {border: 0;clip: rect(1px 1px 1px 1px);clip: rect(1px, 1px, 1px, 1px);height: 1px;margin: -1px;overflow: hidden;padding: 0;position: absolute;width: 1px;}#sk-container-id-1 div.sk-estimator {font-family: monospace;background-color: #f0f8ff;border: 1px dotted black;border-radius: 0.25em;box-sizing: border-box;margin-bottom: 0.5em;}#sk-container-id-1 div.sk-estimator:hover {background-color: #d4ebff;}#sk-container-id-1 div.sk-parallel-item::after {content: \"\";width: 100%;border-bottom: 1px solid gray;flex-grow: 1;}#sk-container-id-1 div.sk-label:hover label.sk-toggleable__label {background-color: #d4ebff;}#sk-container-id-1 div.sk-serial::before {content: \"\";position: absolute;border-left: 1px solid gray;box-sizing: border-box;top: 0;bottom: 0;left: 50%;z-index: 0;}#sk-container-id-1 div.sk-serial {display: flex;flex-direction: column;align-items: center;background-color: white;padding-right: 0.2em;padding-left: 0.2em;position: relative;}#sk-container-id-1 div.sk-item {position: relative;z-index: 1;}#sk-container-id-1 div.sk-parallel {display: flex;align-items: stretch;justify-content: center;background-color: white;position: relative;}#sk-container-id-1 div.sk-item::before, #sk-container-id-1 div.sk-parallel-item::before {content: \"\";position: absolute;border-left: 1px solid gray;box-sizing: border-box;top: 0;bottom: 0;left: 50%;z-index: -1;}#sk-container-id-1 div.sk-parallel-item {display: flex;flex-direction: column;z-index: 1;position: relative;background-color: white;}#sk-container-id-1 div.sk-parallel-item:first-child::after {align-self: flex-end;width: 50%;}#sk-container-id-1 div.sk-parallel-item:last-child::after {align-self: flex-start;width: 50%;}#sk-container-id-1 div.sk-parallel-item:only-child::after {width: 0;}#sk-container-id-1 div.sk-dashed-wrapped {border: 1px dashed gray;margin: 0 0.4em 0.5em 0.4em;box-sizing: border-box;padding-bottom: 0.4em;background-color: white;}#sk-container-id-1 div.sk-label label {font-family: monospace;font-weight: bold;display: inline-block;line-height: 1.2em;}#sk-container-id-1 div.sk-label-container {text-align: center;}#sk-container-id-1 div.sk-container {/* jupyter's `normalize.less` sets `[hidden] { display: none; }` but bootstrap.min.css set `[hidden] { display: none !important; }` so we also need the `!important` here to be able to override the default hidden behavior on the sphinx rendered scikit-learn.org. See: https://github.com/scikit-learn/scikit-learn/issues/21755 */display: inline-block !important;position: relative;}#sk-container-id-1 div.sk-text-repr-fallback {display: none;}</style><div id=\"sk-container-id-1\" class=\"sk-top-container\"><div class=\"sk-text-repr-fallback\"><pre>LogisticRegression(n_jobs=-1)</pre><b>In a Jupyter environment, please rerun this cell to show the HTML representation or trust the notebook. <br />On GitHub, the HTML representation is unable to render, please try loading this page with nbviewer.org.</b></div><div class=\"sk-container\" hidden><div class=\"sk-item\"><div class=\"sk-estimator sk-toggleable\"><input class=\"sk-toggleable__control sk-hidden--visually\" id=\"sk-estimator-id-1\" type=\"checkbox\" checked><label for=\"sk-estimator-id-1\" class=\"sk-toggleable__label sk-toggleable__label-arrow\">LogisticRegression</label><div class=\"sk-toggleable__content\"><pre>LogisticRegression(n_jobs=-1)</pre></div></div></div></div></div>"
      ],
      "text/plain": [
       "LogisticRegression(n_jobs=-1)"
      ]
     },
     "execution_count": 17,
     "metadata": {},
     "output_type": "execute_result"
    }
   ],
   "source": [
    "lr = LogisticRegression(n_jobs=-1)\n",
    "lr.fit(XV_train,y_train)"
   ]
  },
  {
   "cell_type": "code",
   "execution_count": 18,
   "id": "904d21c3",
   "metadata": {
    "execution": {
     "iopub.execute_input": "2024-01-01T16:57:37.431936Z",
     "iopub.status.busy": "2024-01-01T16:57:37.431472Z",
     "iopub.status.idle": "2024-01-01T16:57:37.438826Z",
     "shell.execute_reply": "2024-01-01T16:57:37.437902Z"
    },
    "papermill": {
     "duration": 0.029203,
     "end_time": "2024-01-01T16:57:37.441356",
     "exception": false,
     "start_time": "2024-01-01T16:57:37.412153",
     "status": "completed"
    },
    "tags": []
   },
   "outputs": [],
   "source": [
    "pred_lr=lr.predict(XV_test)"
   ]
  },
  {
   "cell_type": "code",
   "execution_count": 19,
   "id": "8851ebe4",
   "metadata": {
    "execution": {
     "iopub.execute_input": "2024-01-01T16:57:37.479069Z",
     "iopub.status.busy": "2024-01-01T16:57:37.478632Z",
     "iopub.status.idle": "2024-01-01T16:57:37.490015Z",
     "shell.execute_reply": "2024-01-01T16:57:37.488794Z"
    },
    "papermill": {
     "duration": 0.034076,
     "end_time": "2024-01-01T16:57:37.493021",
     "exception": false,
     "start_time": "2024-01-01T16:57:37.458945",
     "status": "completed"
    },
    "tags": []
   },
   "outputs": [
    {
     "data": {
      "text/plain": [
       "0.8309679767103348"
      ]
     },
     "execution_count": 19,
     "metadata": {},
     "output_type": "execute_result"
    }
   ],
   "source": [
    "# get accuracy score\n",
    "score_lr = accuracy_score(y_test, pred_lr)\n",
    "score_lr"
   ]
  },
  {
   "cell_type": "code",
   "execution_count": 20,
   "id": "d95f2561",
   "metadata": {
    "execution": {
     "iopub.execute_input": "2024-01-01T16:57:37.531587Z",
     "iopub.status.busy": "2024-01-01T16:57:37.531154Z",
     "iopub.status.idle": "2024-01-01T16:57:37.555357Z",
     "shell.execute_reply": "2024-01-01T16:57:37.553827Z"
    },
    "papermill": {
     "duration": 0.047669,
     "end_time": "2024-01-01T16:57:37.558599",
     "exception": false,
     "start_time": "2024-01-01T16:57:37.510930",
     "status": "completed"
    },
    "tags": []
   },
   "outputs": [
    {
     "name": "stdout",
     "output_type": "stream",
     "text": [
      "              precision    recall  f1-score   support\n",
      "\n",
      "           0       0.81      0.79      0.80      1572\n",
      "           1       0.79      0.88      0.84      2236\n",
      "           2       0.91      0.81      0.85      1688\n",
      "\n",
      "    accuracy                           0.83      5496\n",
      "   macro avg       0.84      0.82      0.83      5496\n",
      "weighted avg       0.84      0.83      0.83      5496\n",
      "\n"
     ]
    }
   ],
   "source": [
    "print(classification_report(y_test, pred_lr))"
   ]
  },
  {
   "cell_type": "code",
   "execution_count": 21,
   "id": "1581ed3a",
   "metadata": {
    "execution": {
     "iopub.execute_input": "2024-01-01T16:57:37.596208Z",
     "iopub.status.busy": "2024-01-01T16:57:37.595166Z",
     "iopub.status.idle": "2024-01-01T16:57:37.982823Z",
     "shell.execute_reply": "2024-01-01T16:57:37.981678Z"
    },
    "papermill": {
     "duration": 0.409272,
     "end_time": "2024-01-01T16:57:37.985329",
     "exception": false,
     "start_time": "2024-01-01T16:57:37.576057",
     "status": "completed"
    },
    "tags": []
   },
   "outputs": [
    {
     "data": {
      "image/png": "[encoded data removed]",
      "text/plain": [
       "<Figure size 640x480 with 2 Axes>"
      ]
     },
     "metadata": {},
     "output_type": "display_data"
    }
   ],
   "source": [
    "ConfusionMatrixDisplay.from_predictions(y_test, pred_lr);"
   ]
  },
  {
   "cell_type": "markdown",
   "id": "ca46d7e3",
   "metadata": {
    "execution": {
     "iopub.execute_input": "2024-01-01T16:53:49.288224Z",
     "iopub.status.busy": "2024-01-01T16:53:49.287703Z",
     "iopub.status.idle": "2024-01-01T16:53:49.295662Z",
     "shell.execute_reply": "2024-01-01T16:53:49.293890Z",
     "shell.execute_reply.started": "2024-01-01T16:53:49.288188Z"
    },
    "papermill": {
     "duration": 0.017618,
     "end_time": "2024-01-01T16:57:38.020997",
     "exception": false,
     "start_time": "2024-01-01T16:57:38.003379",
     "status": "completed"
    },
    "tags": []
   },
   "source": [
    "## Decision Tree Classification"
   ]
  },
  {
   "cell_type": "code",
   "execution_count": 22,
   "id": "81f8b16f",
   "metadata": {
    "execution": {
     "iopub.execute_input": "2024-01-01T16:57:38.058602Z",
     "iopub.status.busy": "2024-01-01T16:57:38.057847Z",
     "iopub.status.idle": "2024-01-01T16:57:43.116982Z",
     "shell.execute_reply": "2024-01-01T16:57:43.115597Z"
    },
    "papermill": {
     "duration": 5.0815,
     "end_time": "2024-01-01T16:57:43.119885",
     "exception": false,
     "start_time": "2024-01-01T16:57:38.038385",
     "status": "completed"
    },
    "tags": []
   },
   "outputs": [
    {
     "data": {
      "text/html": [
       "<style>#sk-container-id-2 {color: black;background-color: white;}#sk-container-id-2 pre{padding: 0;}#sk-container-id-2 div.sk-toggleable {background-color: white;}#sk-container-id-2 label.sk-toggleable__label {cursor: pointer;display: block;width: 100%;margin-bottom: 0;padding: 0.3em;box-sizing: border-box;text-align: center;}#sk-container-id-2 label.sk-toggleable__label-arrow:before {content: \"▸\";float: left;margin-right: 0.25em;color: #696969;}#sk-container-id-2 label.sk-toggleable__label-arrow:hover:before {color: black;}#sk-container-id-2 div.sk-estimator:hover label.sk-toggleable__label-arrow:before {color: black;}#sk-container-id-2 div.sk-toggleable__content {max-height: 0;max-width: 0;overflow: hidden;text-align: left;background-color: #f0f8ff;}#sk-container-id-2 div.sk-toggleable__content pre {margin: 0.2em;color: black;border-radius: 0.25em;background-color: #f0f8ff;}#sk-container-id-2 input.sk-toggleable__control:checked~div.sk-toggleable__content {max-height: 200px;max-width: 100%;overflow: auto;}#sk-container-id-2 input.sk-toggleable__control:checked~label.sk-toggleable__label-arrow:before {content: \"▾\";}#sk-container-id-2 div.sk-estimator input.sk-toggleable__control:checked~label.sk-toggleable__label {background-color: #d4ebff;}#sk-container-id-2 div.sk-label input.sk-toggleable__control:checked~label.sk-toggleable__label {background-color: #d4ebff;}#sk-container-id-2 input.sk-hidden--visually {border: 0;clip: rect(1px 1px 1px 1px);clip: rect(1px, 1px, 1px, 1px);height: 1px;margin: -1px;overflow: hidden;padding: 0;position: absolute;width: 1px;}#sk-container-id-2 div.sk-estimator {font-family: monospace;background-color: #f0f8ff;border: 1px dotted black;border-radius: 0.25em;box-sizing: border-box;margin-bottom: 0.5em;}#sk-container-id-2 div.sk-estimator:hover {background-color: #d4ebff;}#sk-container-id-2 div.sk-parallel-item::after {content: \"\";width: 100%;border-bottom: 1px solid gray;flex-grow: 1;}#sk-container-id-2 div.sk-label:hover label.sk-toggleable__label {background-color: #d4ebff;}#sk-container-id-2 div.sk-serial::before {content: \"\";position: absolute;border-left: 1px solid gray;box-sizing: border-box;top: 0;bottom: 0;left: 50%;z-index: 0;}#sk-container-id-2 div.sk-serial {display: flex;flex-direction: column;align-items: center;background-color: white;padding-right: 0.2em;padding-left: 0.2em;position: relative;}#sk-container-id-2 div.sk-item {position: relative;z-index: 1;}#sk-container-id-2 div.sk-parallel {display: flex;align-items: stretch;justify-content: center;background-color: white;position: relative;}#sk-container-id-2 div.sk-item::before, #sk-container-id-2 div.sk-parallel-item::before {content: \"\";position: absolute;border-left: 1px solid gray;box-sizing: border-box;top: 0;bottom: 0;left: 50%;z-index: -1;}#sk-container-id-2 div.sk-parallel-item {display: flex;flex-direction: column;z-index: 1;position: relative;background-color: white;}#sk-container-id-2 div.sk-parallel-item:first-child::after {align-self: flex-end;width: 50%;}#sk-container-id-2 div.sk-parallel-item:last-child::after {align-self: flex-start;width: 50%;}#sk-container-id-2 div.sk-parallel-item:only-child::after {width: 0;}#sk-container-id-2 div.sk-dashed-wrapped {border: 1px dashed gray;margin: 0 0.4em 0.5em 0.4em;box-sizing: border-box;padding-bottom: 0.4em;background-color: white;}#sk-container-id-2 div.sk-label label {font-family: monospace;font-weight: bold;display: inline-block;line-height: 1.2em;}#sk-container-id-2 div.sk-label-container {text-align: center;}#sk-container-id-2 div.sk-container {/* jupyter's `normalize.less` sets `[hidden] { display: none; }` but bootstrap.min.css set `[hidden] { display: none !important; }` so we also need the `!important` here to be able to override the default hidden behavior on the sphinx rendered scikit-learn.org. See: https://github.com/scikit-learn/scikit-learn/issues/21755 */display: inline-block !important;position: relative;}#sk-container-id-2 div.sk-text-repr-fallback {display: none;}</style><div id=\"sk-container-id-2\" class=\"sk-top-container\"><div class=\"sk-text-repr-fallback\"><pre>DecisionTreeClassifier()</pre><b>In a Jupyter environment, please rerun this cell to show the HTML representation or trust the notebook. <br />On GitHub, the HTML representation is unable to render, please try loading this page with nbviewer.org.</b></div><div class=\"sk-container\" hidden><div class=\"sk-item\"><div class=\"sk-estimator sk-toggleable\"><input class=\"sk-toggleable__control sk-hidden--visually\" id=\"sk-estimator-id-2\" type=\"checkbox\" checked><label for=\"sk-estimator-id-2\" class=\"sk-toggleable__label sk-toggleable__label-arrow\">DecisionTreeClassifier</label><div class=\"sk-toggleable__content\"><pre>DecisionTreeClassifier()</pre></div></div></div></div></div>"
      ],
      "text/plain": [
       "DecisionTreeClassifier()"
      ]
     },
     "execution_count": 22,
     "metadata": {},
     "output_type": "execute_result"
    }
   ],
   "source": [
    "dt = DecisionTreeClassifier()\n",
    "dt.fit(XV_train, y_train)"
   ]
  },
  {
   "cell_type": "code",
   "execution_count": 23,
   "id": "0035fe03",
   "metadata": {
    "execution": {
     "iopub.execute_input": "2024-01-01T16:57:43.157232Z",
     "iopub.status.busy": "2024-01-01T16:57:43.156785Z",
     "iopub.status.idle": "2024-01-01T16:57:43.170536Z",
     "shell.execute_reply": "2024-01-01T16:57:43.169189Z"
    },
    "papermill": {
     "duration": 0.035492,
     "end_time": "2024-01-01T16:57:43.173204",
     "exception": false,
     "start_time": "2024-01-01T16:57:43.137712",
     "status": "completed"
    },
    "tags": []
   },
   "outputs": [],
   "source": [
    "pred_dt = dt.predict(XV_test)"
   ]
  },
  {
   "cell_type": "code",
   "execution_count": 24,
   "id": "39ca60c1",
   "metadata": {
    "execution": {
     "iopub.execute_input": "2024-01-01T16:57:43.211461Z",
     "iopub.status.busy": "2024-01-01T16:57:43.210581Z",
     "iopub.status.idle": "2024-01-01T16:57:43.227537Z",
     "shell.execute_reply": "2024-01-01T16:57:43.226235Z"
    },
    "papermill": {
     "duration": 0.039641,
     "end_time": "2024-01-01T16:57:43.230608",
     "exception": false,
     "start_time": "2024-01-01T16:57:43.190967",
     "status": "completed"
    },
    "tags": []
   },
   "outputs": [
    {
     "data": {
      "text/plain": [
       "0.7641921397379913"
      ]
     },
     "execution_count": 24,
     "metadata": {},
     "output_type": "execute_result"
    }
   ],
   "source": [
    "score_dt = dt.score(XV_test, y_test)\n",
    "score_dt"
   ]
  },
  {
   "cell_type": "code",
   "execution_count": 25,
   "id": "d64c1ede",
   "metadata": {
    "execution": {
     "iopub.execute_input": "2024-01-01T16:57:43.268964Z",
     "iopub.status.busy": "2024-01-01T16:57:43.268200Z",
     "iopub.status.idle": "2024-01-01T16:57:43.293492Z",
     "shell.execute_reply": "2024-01-01T16:57:43.291495Z"
    },
    "papermill": {
     "duration": 0.047284,
     "end_time": "2024-01-01T16:57:43.296005",
     "exception": false,
     "start_time": "2024-01-01T16:57:43.248721",
     "status": "completed"
    },
    "tags": []
   },
   "outputs": [
    {
     "name": "stdout",
     "output_type": "stream",
     "text": [
      "              precision    recall  f1-score   support\n",
      "\n",
      "           0       0.71      0.75      0.73      1572\n",
      "           1       0.76      0.78      0.77      2236\n",
      "           2       0.83      0.76      0.79      1688\n",
      "\n",
      "    accuracy                           0.76      5496\n",
      "   macro avg       0.77      0.76      0.76      5496\n",
      "weighted avg       0.77      0.76      0.76      5496\n",
      "\n"
     ]
    }
   ],
   "source": [
    "print(classification_report(y_test, pred_dt))"
   ]
  },
  {
   "cell_type": "code",
   "execution_count": 26,
   "id": "4b5d7419",
   "metadata": {
    "execution": {
     "iopub.execute_input": "2024-01-01T16:57:43.334415Z",
     "iopub.status.busy": "2024-01-01T16:57:43.333680Z",
     "iopub.status.idle": "2024-01-01T16:57:43.744486Z",
     "shell.execute_reply": "2024-01-01T16:57:43.742975Z"
    },
    "papermill": {
     "duration": 0.433376,
     "end_time": "2024-01-01T16:57:43.747372",
     "exception": false,
     "start_time": "2024-01-01T16:57:43.313996",
     "status": "completed"
    },
    "tags": []
   },
   "outputs": [
    {
     "data": {
      "image/png": "[encoded data removed]",
      "text/plain": [
       "<Figure size 640x480 with 2 Axes>"
      ]
     },
     "metadata": {},
     "output_type": "display_data"
    }
   ],
   "source": [
    "ConfusionMatrixDisplay.from_predictions(y_test, pred_dt);"
   ]
  },
  {
   "cell_type": "markdown",
   "id": "e71a99c9",
   "metadata": {
    "papermill": {
     "duration": 0.022041,
     "end_time": "2024-01-01T16:57:43.788181",
     "exception": false,
     "start_time": "2024-01-01T16:57:43.766140",
     "status": "completed"
    },
    "tags": []
   },
   "source": [
    "## Random Forest Classifier"
   ]
  },
  {
   "cell_type": "code",
   "execution_count": 27,
   "id": "622c4800",
   "metadata": {
    "execution": {
     "iopub.execute_input": "2024-01-01T16:57:43.837572Z",
     "iopub.status.busy": "2024-01-01T16:57:43.836861Z",
     "iopub.status.idle": "2024-01-01T16:58:23.514120Z",
     "shell.execute_reply": "2024-01-01T16:58:23.512882Z"
    },
    "papermill": {
     "duration": 39.724583,
     "end_time": "2024-01-01T16:58:23.534513",
     "exception": false,
     "start_time": "2024-01-01T16:57:43.809930",
     "status": "completed"
    },
    "tags": []
   },
   "outputs": [
    {
     "data": {
      "text/html": [
       "<style>#sk-container-id-3 {color: black;background-color: white;}#sk-container-id-3 pre{padding: 0;}#sk-container-id-3 div.sk-toggleable {background-color: white;}#sk-container-id-3 label.sk-toggleable__label {cursor: pointer;display: block;width: 100%;margin-bottom: 0;padding: 0.3em;box-sizing: border-box;text-align: center;}#sk-container-id-3 label.sk-toggleable__label-arrow:before {content: \"▸\";float: left;margin-right: 0.25em;color: #696969;}#sk-container-id-3 label.sk-toggleable__label-arrow:hover:before {color: black;}#sk-container-id-3 div.sk-estimator:hover label.sk-toggleable__label-arrow:before {color: black;}#sk-container-id-3 div.sk-toggleable__content {max-height: 0;max-width: 0;overflow: hidden;text-align: left;background-color: #f0f8ff;}#sk-container-id-3 div.sk-toggleable__content pre {margin: 0.2em;color: black;border-radius: 0.25em;background-color: #f0f8ff;}#sk-container-id-3 input.sk-toggleable__control:checked~div.sk-toggleable__content {max-height: 200px;max-width: 100%;overflow: auto;}#sk-container-id-3 input.sk-toggleable__control:checked~label.sk-toggleable__label-arrow:before {content: \"▾\";}#sk-container-id-3 div.sk-estimator input.sk-toggleable__control:checked~label.sk-toggleable__label {background-color: #d4ebff;}#sk-container-id-3 div.sk-label input.sk-toggleable__control:checked~label.sk-toggleable__label {background-color: #d4ebff;}#sk-container-id-3 input.sk-hidden--visually {border: 0;clip: rect(1px 1px 1px 1px);clip: rect(1px, 1px, 1px, 1px);height: 1px;margin: -1px;overflow: hidden;padding: 0;position: absolute;width: 1px;}#sk-container-id-3 div.sk-estimator {font-family: monospace;background-color: #f0f8ff;border: 1px dotted black;border-radius: 0.25em;box-sizing: border-box;margin-bottom: 0.5em;}#sk-container-id-3 div.sk-estimator:hover {background-color: #d4ebff;}#sk-container-id-3 div.sk-parallel-item::after {content: \"\";width: 100%;border-bottom: 1px solid gray;flex-grow: 1;}#sk-container-id-3 div.sk-label:hover label.sk-toggleable__label {background-color: #d4ebff;}#sk-container-id-3 div.sk-serial::before {content: \"\";position: absolute;border-left: 1px solid gray;box-sizing: border-box;top: 0;bottom: 0;left: 50%;z-index: 0;}#sk-container-id-3 div.sk-serial {display: flex;flex-direction: column;align-items: center;background-color: white;padding-right: 0.2em;padding-left: 0.2em;position: relative;}#sk-container-id-3 div.sk-item {position: relative;z-index: 1;}#sk-container-id-3 div.sk-parallel {display: flex;align-items: stretch;justify-content: center;background-color: white;position: relative;}#sk-container-id-3 div.sk-item::before, #sk-container-id-3 div.sk-parallel-item::before {content: \"\";position: absolute;border-left: 1px solid gray;box-sizing: border-box;top: 0;bottom: 0;left: 50%;z-index: -1;}#sk-container-id-3 div.sk-parallel-item {display: flex;flex-direction: column;z-index: 1;position: relative;background-color: white;}#sk-container-id-3 div.sk-parallel-item:first-child::after {align-self: flex-end;width: 50%;}#sk-container-id-3 div.sk-parallel-item:last-child::after {align-self: flex-start;width: 50%;}#sk-container-id-3 div.sk-parallel-item:only-child::after {width: 0;}#sk-container-id-3 div.sk-dashed-wrapped {border: 1px dashed gray;margin: 0 0.4em 0.5em 0.4em;box-sizing: border-box;padding-bottom: 0.4em;background-color: white;}#sk-container-id-3 div.sk-label label {font-family: monospace;font-weight: bold;display: inline-block;line-height: 1.2em;}#sk-container-id-3 div.sk-label-container {text-align: center;}#sk-container-id-3 div.sk-container {/* jupyter's `normalize.less` sets `[hidden] { display: none; }` but bootstrap.min.css set `[hidden] { display: none !important; }` so we also need the `!important` here to be able to override the default hidden behavior on the sphinx rendered scikit-learn.org. See: https://github.com/scikit-learn/scikit-learn/issues/21755 */display: inline-block !important;position: relative;}#sk-container-id-3 div.sk-text-repr-fallback {display: none;}</style><div id=\"sk-container-id-3\" class=\"sk-top-container\"><div class=\"sk-text-repr-fallback\"><pre>RandomForestClassifier(random_state=0)</pre><b>In a Jupyter environment, please rerun this cell to show the HTML representation or trust the notebook. <br />On GitHub, the HTML representation is unable to render, please try loading this page with nbviewer.org.</b></div><div class=\"sk-container\" hidden><div class=\"sk-item\"><div class=\"sk-estimator sk-toggleable\"><input class=\"sk-toggleable__control sk-hidden--visually\" id=\"sk-estimator-id-3\" type=\"checkbox\" checked><label for=\"sk-estimator-id-3\" class=\"sk-toggleable__label sk-toggleable__label-arrow\">RandomForestClassifier</label><div class=\"sk-toggleable__content\"><pre>RandomForestClassifier(random_state=0)</pre></div></div></div></div></div>"
      ],
      "text/plain": [
       "RandomForestClassifier(random_state=0)"
      ]
     },
     "execution_count": 27,
     "metadata": {},
     "output_type": "execute_result"
    }
   ],
   "source": [
    "rfc = RandomForestClassifier(random_state=0)\n",
    "rfc.fit(XV_train, y_train)"
   ]
  },
  {
   "cell_type": "code",
   "execution_count": 28,
   "id": "91078478",
   "metadata": {
    "execution": {
     "iopub.execute_input": "2024-01-01T16:58:23.574349Z",
     "iopub.status.busy": "2024-01-01T16:58:23.573668Z",
     "iopub.status.idle": "2024-01-01T16:58:24.228984Z",
     "shell.execute_reply": "2024-01-01T16:58:24.227612Z"
    },
    "papermill": {
     "duration": 0.679238,
     "end_time": "2024-01-01T16:58:24.232291",
     "exception": false,
     "start_time": "2024-01-01T16:58:23.553053",
     "status": "completed"
    },
    "tags": []
   },
   "outputs": [],
   "source": [
    "pred_rfc = rfc.predict(XV_test)"
   ]
  },
  {
   "cell_type": "code",
   "execution_count": 29,
   "id": "4c011be6",
   "metadata": {
    "execution": {
     "iopub.execute_input": "2024-01-01T16:58:24.274736Z",
     "iopub.status.busy": "2024-01-01T16:58:24.274283Z",
     "iopub.status.idle": "2024-01-01T16:58:24.916415Z",
     "shell.execute_reply": "2024-01-01T16:58:24.915196Z"
    },
    "papermill": {
     "duration": 0.666378,
     "end_time": "2024-01-01T16:58:24.919403",
     "exception": false,
     "start_time": "2024-01-01T16:58:24.253025",
     "status": "completed"
    },
    "tags": []
   },
   "outputs": [
    {
     "data": {
      "text/plain": [
       "0.8138646288209607"
      ]
     },
     "execution_count": 29,
     "metadata": {},
     "output_type": "execute_result"
    }
   ],
   "source": [
    "score_rfc = rfc.score(XV_test, y_test)\n",
    "score_rfc"
   ]
  },
  {
   "cell_type": "code",
   "execution_count": 30,
   "id": "3bb7275c",
   "metadata": {
    "execution": {
     "iopub.execute_input": "2024-01-01T16:58:24.961593Z",
     "iopub.status.busy": "2024-01-01T16:58:24.960351Z",
     "iopub.status.idle": "2024-01-01T16:58:24.985460Z",
     "shell.execute_reply": "2024-01-01T16:58:24.984016Z"
    },
    "papermill": {
     "duration": 0.049377,
     "end_time": "2024-01-01T16:58:24.988348",
     "exception": false,
     "start_time": "2024-01-01T16:58:24.938971",
     "status": "completed"
    },
    "tags": []
   },
   "outputs": [
    {
     "name": "stdout",
     "output_type": "stream",
     "text": [
      "              precision    recall  f1-score   support\n",
      "\n",
      "           0       0.79      0.76      0.77      1572\n",
      "           1       0.77      0.90      0.83      2236\n",
      "           2       0.92      0.76      0.83      1688\n",
      "\n",
      "    accuracy                           0.81      5496\n",
      "   macro avg       0.83      0.80      0.81      5496\n",
      "weighted avg       0.82      0.81      0.81      5496\n",
      "\n"
     ]
    }
   ],
   "source": [
    "print(classification_report(y_test, pred_rfc))"
   ]
  },
  {
   "cell_type": "code",
   "execution_count": 31,
   "id": "a1060492",
   "metadata": {
    "execution": {
     "iopub.execute_input": "2024-01-01T16:58:25.030953Z",
     "iopub.status.busy": "2024-01-01T16:58:25.030489Z",
     "iopub.status.idle": "2024-01-01T16:58:25.417930Z",
     "shell.execute_reply": "2024-01-01T16:58:25.416829Z"
    },
    "papermill": {
     "duration": 0.412357,
     "end_time": "2024-01-01T16:58:25.420685",
     "exception": false,
     "start_time": "2024-01-01T16:58:25.008328",
     "status": "completed"
    },
    "tags": []
   },
   "outputs": [
    {
     "data": {
      "image/png": "[encoded data removed]",
      "text/plain": [
       "<Figure size 640x480 with 2 Axes>"
      ]
     },
     "metadata": {},
     "output_type": "display_data"
    }
   ],
   "source": [
    "ConfusionMatrixDisplay.from_predictions(y_test, pred_rfc);"
   ]
  },
  {
   "cell_type": "markdown",
   "id": "dd15ddd5",
   "metadata": {
    "papermill": {
     "duration": 0.019179,
     "end_time": "2024-01-01T16:58:25.459741",
     "exception": false,
     "start_time": "2024-01-01T16:58:25.440562",
     "status": "completed"
    },
    "tags": []
   },
   "source": [
    "## Best model in accuracy "
   ]
  },
  {
   "cell_type": "code",
   "execution_count": 32,
   "id": "257c9813",
   "metadata": {
    "execution": {
     "iopub.execute_input": "2024-01-01T16:58:25.501647Z",
     "iopub.status.busy": "2024-01-01T16:58:25.501050Z",
     "iopub.status.idle": "2024-01-01T16:58:25.507964Z",
     "shell.execute_reply": "2024-01-01T16:58:25.506710Z"
    },
    "papermill": {
     "duration": 0.03137,
     "end_time": "2024-01-01T16:58:25.511005",
     "exception": false,
     "start_time": "2024-01-01T16:58:25.479635",
     "status": "completed"
    },
    "tags": []
   },
   "outputs": [
    {
     "name": "stdout",
     "output_type": "stream",
     "text": [
      "Baseline model:0.40454876273653567 \n",
      "Logistic regression 0.8309679767103348\n",
      "Decision Tree Classification 0.7641921397379913\n",
      "Randim Forest Classifier 0.8138646288209607\n"
     ]
    }
   ],
   "source": [
    "print(f'Baseline model:{score_baseline} \\nLogistic regression {score_lr}\\nDecision Tree Classification {score_dt}\\nRandim Forest Classifier {score_rfc}')"
   ]
  },
  {
   "cell_type": "markdown",
   "id": "9f4241f2",
   "metadata": {
    "papermill": {
     "duration": 0.019296,
     "end_time": "2024-01-01T16:58:25.550205",
     "exception": false,
     "start_time": "2024-01-01T16:58:25.530909",
     "status": "completed"
    },
    "tags": []
   },
   "source": [
    "# Communicate the result "
   ]
  },
  {
   "cell_type": "code",
   "execution_count": 33,
   "id": "9ee63d3c",
   "metadata": {
    "execution": {
     "iopub.execute_input": "2024-01-01T16:58:25.591951Z",
     "iopub.status.busy": "2024-01-01T16:58:25.591430Z",
     "iopub.status.idle": "2024-01-01T16:58:25.600111Z",
     "shell.execute_reply": "2024-01-01T16:58:25.599172Z"
    },
    "papermill": {
     "duration": 0.032885,
     "end_time": "2024-01-01T16:58:25.602711",
     "exception": false,
     "start_time": "2024-01-01T16:58:25.569826",
     "status": "completed"
    },
    "tags": []
   },
   "outputs": [],
   "source": [
    "def output_lable(n):\n",
    "    if n == 0:\n",
    "        return \"The Text Sentement is Negative\"\n",
    "    elif n == 1:\n",
    "        return \"The Text Sentement is Neutral\"\n",
    "    elif n == 2:\n",
    "        return \"The Text Sentement is Positive\"\n",
    "    \n",
    "def manual_testing(news):\n",
    "    testing_news = {\"text\":[news]}\n",
    "    new_def_test = pd.DataFrame(testing_news)\n",
    "    new_def_test[\"text\"] = new_def_test[\"text\"].apply(wp) \n",
    "    new_x_test = new_def_test[\"text\"]\n",
    "    new_xv_test = vectorization.transform(new_x_test)\n",
    "    pred_lr = lr.predict(new_xv_test)\n",
    "    pred_dt = dt.predict(new_xv_test)\n",
    "    pred_rfc = rfc.predict(new_xv_test)\n",
    "\n",
    "    return print((output_lable(pred_lr[0])))"
   ]
  },
  {
   "cell_type": "code",
   "execution_count": 34,
   "id": "6724a20f",
   "metadata": {
    "execution": {
     "iopub.execute_input": "2024-01-01T16:58:25.646100Z",
     "iopub.status.busy": "2024-01-01T16:58:25.645363Z",
     "iopub.status.idle": "2024-01-01T16:58:26.487409Z",
     "shell.execute_reply": "2024-01-01T16:58:26.485407Z"
    },
    "papermill": {
     "duration": 0.866647,
     "end_time": "2024-01-01T16:58:26.489859",
     "exception": true,
     "start_time": "2024-01-01T16:58:25.623212",
     "status": "failed"
    },
    "tags": []
   },
   "outputs": [
    {
     "ename": "StdinNotImplementedError",
     "evalue": "raw_input was called, but this frontend does not support input requests.",
     "output_type": "error",
     "traceback": [
      "\u001b[0;31m---------------------------------------------------------------------------\u001b[0m",
      "\u001b[0;31mStdinNotImplementedError\u001b[0m                  Traceback (most recent call last)",
      "Cell \u001b[0;32mIn[34], line 2\u001b[0m\n\u001b[1;32m      1\u001b[0m \u001b[38;5;66;03m# enter a text to find if its sentiment\u001b[39;00m\n\u001b[0;32m----> 2\u001b[0m text \u001b[38;5;241m=\u001b[39m \u001b[38;5;28mstr\u001b[39m(\u001b[38;5;28;43minput\u001b[39;49m\u001b[43m(\u001b[49m\u001b[43m)\u001b[49m)\n\u001b[1;32m      3\u001b[0m manual_testing(text)\n",
      "File \u001b[0;32m/opt/conda/lib/python3.10/site-packages/ipykernel/kernelbase.py:1201\u001b[0m, in \u001b[0;36mKernel.raw_input\u001b[0;34m(self, prompt)\u001b[0m\n\u001b[1;32m   1199\u001b[0m \u001b[38;5;28;01mif\u001b[39;00m \u001b[38;5;129;01mnot\u001b[39;00m \u001b[38;5;28mself\u001b[39m\u001b[38;5;241m.\u001b[39m_allow_stdin:\n\u001b[1;32m   1200\u001b[0m     msg \u001b[38;5;241m=\u001b[39m \u001b[38;5;124m\"\u001b[39m\u001b[38;5;124mraw_input was called, but this frontend does not support input requests.\u001b[39m\u001b[38;5;124m\"\u001b[39m\n\u001b[0;32m-> 1201\u001b[0m     \u001b[38;5;28;01mraise\u001b[39;00m StdinNotImplementedError(msg)\n\u001b[1;32m   1202\u001b[0m \u001b[38;5;28;01mreturn\u001b[39;00m \u001b[38;5;28mself\u001b[39m\u001b[38;5;241m.\u001b[39m_input_request(\n\u001b[1;32m   1203\u001b[0m     \u001b[38;5;28mstr\u001b[39m(prompt),\n\u001b[1;32m   1204\u001b[0m     \u001b[38;5;28mself\u001b[39m\u001b[38;5;241m.\u001b[39m_parent_ident[\u001b[38;5;124m\"\u001b[39m\u001b[38;5;124mshell\u001b[39m\u001b[38;5;124m\"\u001b[39m],\n\u001b[1;32m   1205\u001b[0m     \u001b[38;5;28mself\u001b[39m\u001b[38;5;241m.\u001b[39mget_parent(\u001b[38;5;124m\"\u001b[39m\u001b[38;5;124mshell\u001b[39m\u001b[38;5;124m\"\u001b[39m),\n\u001b[1;32m   1206\u001b[0m     password\u001b[38;5;241m=\u001b[39m\u001b[38;5;28;01mFalse\u001b[39;00m,\n\u001b[1;32m   1207\u001b[0m )\n",
      "\u001b[0;31mStdinNotImplementedError\u001b[0m: raw_input was called, but this frontend does not support input requests."
     ]
    }
   ],
   "source": [
    "# enter a text to find if its sentiment\n",
    "text = str(input())\n",
    "manual_testing(text)"
   ]
  }
 ],
 "metadata": {
  "kaggle": {
   "accelerator": "none",
   "dataSources": [
    {
     "datasetId": 1520310,
     "sourceId": 2510329,
     "sourceType": "datasetVersion"
    },
    {
     "datasetId": 1918992,
     "sourceId": 3205803,
     "sourceType": "datasetVersion"
    },
    {
     "datasetId": 989445,
     "sourceId": 1808590,
     "sourceType": "datasetVersion"
    }
   ],
   "dockerImageVersionId": 30626,
   "isGpuEnabled": false,
   "isInternetEnabled": true,
   "language": "python",
   "sourceType": "notebook"
  },
  "kernelspec": {
   "display_name": "Python 3",
   "language": "python",
   "name": "python3"
  },
  "language_info": {
   "codemirror_mode": {
    "name": "ipython",
    "version": 3
   },
   "file_extension": ".py",
   "mimetype": "text/x-python",
   "name": "python",
   "nbconvert_exporter": "python",
   "pygments_lexer": "ipython3",
   "version": "3.10.12"
  },
  "papermill": {
   "default_parameters": {},
   "duration": 63.949268,
   "end_time": "2024-01-01T16:58:29.132754",
   "environment_variables": {},
   "exception": true,
   "input_path": "__notebook__.ipynb",
   "output_path": "__notebook__.ipynb",
   "parameters": {},
   "start_time": "2024-01-01T16:57:25.183486",
   "version": "2.4.0"
  }
 },
 "nbformat": 4,
 "nbformat_minor": 5
}
